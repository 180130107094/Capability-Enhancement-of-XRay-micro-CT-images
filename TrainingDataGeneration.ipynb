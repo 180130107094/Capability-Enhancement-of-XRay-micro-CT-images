{
  "nbformat": 4,
  "nbformat_minor": 0,
  "metadata": {
    "colab": {
      "provenance": []
    },
    "kernelspec": {
      "name": "python3",
      "display_name": "Python 3"
    },
    "language_info": {
      "name": "python"
    }
  },
  "cells": [
    {
      "cell_type": "markdown",
      "source": [
        "#Imports and path setup"
      ],
      "metadata": {
        "id": "4JqEIcb31LxF"
      }
    },
    {
      "cell_type": "code",
      "execution_count": 1,
      "metadata": {
        "id": "Ec-Ig63z0zVX"
      },
      "outputs": [],
      "source": [
        "# imports\n",
        "import tensorflow as tf\n",
        "from keras.preprocessing.image import ImageDataGenerator\n",
        "from tensorflow import keras\n",
        "from tensorflow.keras import layers\n",
        "import tensorflow_datasets as tfds\n",
        "import matplotlib.pyplot as plt\n",
        "import numpy as np\n",
        "import os\n",
        "from google.colab.patches import cv_imshow\n",
        "import cv2\n",
        "import imgaug \n",
        "import imgaug as ia\n",
        "import imgaug.augmenters as iaa\n",
        "from sklearn.model_selection import train_test_split"
      ]
    },
    {
      "cell_type": "code",
      "source": [
        "# define paths\n",
        "bmp_path = './drive/Shareddrives/MTech_MinorProject/BMP-new/BMP'\n",
        "circle_path = bmp_path + '/circles_new'\n",
        "bamboo_path = bmp_path + '/bamboo'\n",
        "image_path = bmp_path + '/new_train'\n",
        "train_image_path_new = image_path + '/train_images_latest'\n",
        "train_image_summer_path = bmp_path + '/train_images_summer'\n",
        "true_image_path = image_path + '/true_images_new'\n",
        "raw_masks_path = f\"{bmp_path}/raw_masks_new/\"\n",
        "masks_path = f\"{bmp_path}/masks_new/\"\n",
        "raw_masks_summer_path = f\"{bmp_path}/raw_masks_summer1/\""
      ],
      "metadata": {
        "id": "P99IoLEi005o"
      },
      "execution_count": 2,
      "outputs": []
    },
    {
      "cell_type": "code",
      "source": [
        "from google.colab.patches import cv2_imshow"
      ],
      "metadata": {
        "id": "KzGlUomt02sR"
      },
      "execution_count": 3,
      "outputs": []
    },
    {
      "cell_type": "code",
      "source": [
        "from google.colab import drive\n",
        "drive.mount('/content/drive')"
      ],
      "metadata": {
        "id": "GsDoBg4y06V3",
        "colab": {
          "base_uri": "https://localhost:8080/"
        },
        "outputId": "06408085-07cb-4fd4-df0c-d9be38a2a317"
      },
      "execution_count": 4,
      "outputs": [
        {
          "output_type": "stream",
          "name": "stdout",
          "text": [
            "Mounted at /content/drive\n"
          ]
        }
      ]
    },
    {
      "cell_type": "markdown",
      "source": [
        "#Training data generation"
      ],
      "metadata": {
        "id": "70xezkka1Qr0"
      }
    },
    {
      "cell_type": "code",
      "source": [
        "# Create training images : X\n",
        "n = len(os.listdir(raw_masks_summer_path))\n",
        "mask_diff = np.load(f\"{bmp_path}/mask_div.npy\")\n",
        "for i in range(25):\n",
        "  num = len(os.listdir(train_image_summer_path)) + 1\n",
        "  mask = cv2.imread(f\"{raw_masks_summer_path}/mask_{i + 1}.jpg\")\n",
        "  for img in os.listdir(bamboo_path):\n",
        "    # print(img)\n",
        "    img1 = cv2.imread(bamboo_path + '/' + img)                          # reading artificial image\n",
        "    img1 = cv2.resize(img1, (512, 512))\n",
        "    result = cv2.addWeighted(mask, 0.2, img1, 0.8, 0.0) #\n",
        "    # print(img)\n",
        "    cv2.imwrite(train_image_summer_path + '/train_img_{}.jpg'.format(num), result)\n",
        "    num += 1\n",
        "  print(num)\n",
        "  # print(img1.shape)"
      ],
      "metadata": {
        "id": "8OO78M0K09DB",
        "colab": {
          "base_uri": "https://localhost:8080/"
        },
        "outputId": "bb8043c0-f029-4c12-9652-ffd2508e3521"
      },
      "execution_count": 5,
      "outputs": [
        {
          "output_type": "stream",
          "name": "stdout",
          "text": [
            "102\n",
            "203\n",
            "304\n",
            "405\n",
            "506\n",
            "607\n",
            "708\n",
            "809\n",
            "910\n",
            "1011\n",
            "1112\n",
            "1213\n",
            "1314\n",
            "1415\n",
            "1516\n",
            "1617\n",
            "1718\n",
            "1819\n",
            "1920\n",
            "2021\n",
            "2122\n",
            "2223\n",
            "2324\n",
            "2425\n",
            "2526\n"
          ]
        }
      ]
    },
    {
      "cell_type": "code",
      "source": [
        "len(os.listdir(train_image_path_new))"
      ],
      "metadata": {
        "id": "quyb516i1D8P",
        "colab": {
          "base_uri": "https://localhost:8080/"
        },
        "outputId": "1daab2f3-ecde-4538-bf26-a068d5ad798f"
      },
      "execution_count": 6,
      "outputs": [
        {
          "output_type": "execute_result",
          "data": {
            "text/plain": [
              "2525"
            ]
          },
          "metadata": {},
          "execution_count": 6
        }
      ]
    },
    {
      "cell_type": "markdown",
      "source": [
        "##Blending original image with white image"
      ],
      "metadata": {
        "id": "LPFhvPoc1XKk"
      }
    },
    {
      "cell_type": "markdown",
      "source": [
        "### Generating white image"
      ],
      "metadata": {
        "id": "3pcIQHVO1c7u"
      }
    },
    {
      "cell_type": "code",
      "source": [
        "from PIL import Image"
      ],
      "metadata": {
        "id": "uLiRhvBN1eXx"
      },
      "execution_count": null,
      "outputs": []
    },
    {
      "cell_type": "code",
      "source": [
        "whiteFrame = 255 * np.ones((512,512,3), np.uint8)\n",
        "cv_imshow(whiteFrame)"
      ],
      "metadata": {
        "id": "_Dw-rUaP1xPC"
      },
      "execution_count": null,
      "outputs": []
    },
    {
      "cell_type": "code",
      "source": [
        "cv2.imwrite(bmp_path + '/white.jpeg', whiteFrame)"
      ],
      "metadata": {
        "id": "ntcAX91b1zIr"
      },
      "execution_count": null,
      "outputs": []
    },
    {
      "cell_type": "code",
      "source": [
        "img = cv2.resize(cv2.imread('/content/drive/Shareddrives/MTech_MinorProject/BMP-new/BMP/white.jpeg'),(256,256))\n",
        "cv_imshow(img)"
      ],
      "metadata": {
        "id": "sadqb20811su"
      },
      "execution_count": null,
      "outputs": []
    },
    {
      "cell_type": "markdown",
      "source": [
        "#Blending the white image with original images provide so as to balance the contrast"
      ],
      "metadata": {
        "id": "qYsk5b_-2Xdz"
      }
    },
    {
      "cell_type": "code",
      "source": [
        "# resize all images and writing it to true images\n",
        "for i in range(25):\n",
        "  num = len(os.listdir(true_image_path)) + 1\n",
        "  mask = cv2.imread(f\"./white.jpeg\")\n",
        "  mask = cv2.resize(mask, (512, 512))\n",
        "  for img in os.listdir(bamboo_path):  \n",
        "    # print(img)\n",
        "    img1 = cv2.imread(bamboo_path + '/' + img)                          # reading artificial image\n",
        "    img1 = cv2.resize(img1, (512, 512))\n",
        "    result = cv2.addWeighted(mask, 0.2, img1, 0.8, 0.0)\n",
        "    # print(img)\n",
        "    cv2.imwrite(true_image_path + '/true_img_{}.jpg'.format(num), result)\n",
        "    num += 1\n",
        "  print(num)"
      ],
      "metadata": {
        "id": "KpxZwygV2LxO"
      },
      "execution_count": null,
      "outputs": []
    },
    {
      "cell_type": "code",
      "source": [
        "X = np.array(list(map(lambda a : image_path + '/' + a, os.listdir(image_path))))\n",
        "y = np.array(list(map(lambda a : true_image_path + '/' + a, os.listdir(true_image_path))))"
      ],
      "metadata": {
        "id": "bah2uFU92QTV"
      },
      "execution_count": null,
      "outputs": []
    },
    {
      "cell_type": "code",
      "source": [
        "print(X.shape)"
      ],
      "metadata": {
        "id": "0B5XDv8S2SbR"
      },
      "execution_count": null,
      "outputs": []
    },
    {
      "cell_type": "code",
      "source": [
        "print(Y.shape)"
      ],
      "metadata": {
        "id": "UgImST9L2Sed"
      },
      "execution_count": null,
      "outputs": []
    }
  ]
}